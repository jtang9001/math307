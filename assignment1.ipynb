{
 "cells": [
  {
   "cell_type": "markdown",
   "metadata": {},
   "source": [
    "# Assignment 1\n",
    "*Topics: matrix operations, gaussian elimination, solving a system, LU decomposition*\n",
    "\n",
    "For details on how to upload your notebook back to canvas, check the canvas homepage for a quick tutorial. For additional help with the jupyter workflow and python in general, attend an office hour at 6pm PST on Wednesday. "
   ]
  },
  {
   "cell_type": "code",
   "execution_count": 38,
   "metadata": {},
   "outputs": [],
   "source": [
    "import numpy as np\n",
    "import scipy.linalg as la\n"
   ]
  },
  {
   "cell_type": "markdown",
   "metadata": {},
   "source": [
    "**Exercise 1**\n",
    "Each part of Exercise 1 is a True/False question. \n",
    "\n",
    "**Exercise 1(a)**\n",
    "Let $A$ be a $m$ by $n$ matrix such that $m>n$ and rank$(A) = n$. There is a unique solution of $Ax = b$ for any $b$.\n",
    "\n",
    "Assign the variable ONEA the value True if the above statement is true and False if it is not. \n",
    "\n",
    "For example, write ONEA = True (note the capitalization)\n"
   ]
  },
  {
   "cell_type": "code",
   "execution_count": 39,
   "metadata": {
    "deletable": false,
    "nbgrader": {
     "cell_type": "code",
     "checksum": "e331e02314dbec85dc69ba3230a7b408",
     "grade": false,
     "grade_id": "cell-1c8daa3c92ee5bb3",
     "locked": false,
     "schema_version": 3,
     "solution": true,
     "task": false
    }
   },
   "outputs": [],
   "source": [
    "# YOUR CODE HERE\n",
    "ONEA = False"
   ]
  },
  {
   "cell_type": "code",
   "execution_count": 40,
   "metadata": {
    "deletable": false,
    "editable": false,
    "nbgrader": {
     "cell_type": "code",
     "checksum": "423b080a0dbc4ef1baca1b139d2de917",
     "grade": true,
     "grade_id": "cell-0ee0ad040629397e",
     "locked": true,
     "points": 0,
     "schema_version": 3,
     "solution": false,
     "task": false
    }
   },
   "outputs": [
    {
     "output_type": "stream",
     "name": "stdout",
     "text": [
      "Checkpoint 1.1 passed\n"
     ]
    }
   ],
   "source": [
    "assert isinstance(ONEA,bool), \"Assign the variable True or False\"\n",
    "print(\"Checkpoint 1.1 passed\")"
   ]
  },
  {
   "cell_type": "code",
   "execution_count": null,
   "metadata": {
    "deletable": false,
    "editable": false,
    "nbgrader": {
     "cell_type": "code",
     "checksum": "93b554006793ec9bee99a18459275c66",
     "grade": true,
     "grade_id": "cell-164475cf529e994c",
     "locked": true,
     "points": 1,
     "schema_version": 3,
     "solution": false,
     "task": false
    }
   },
   "outputs": [],
   "source": []
  },
  {
   "cell_type": "markdown",
   "metadata": {},
   "source": [
    "**Exercise 1(b)**\n",
    "\n",
    "If $P$ is a permutation matrix such that $PA$ interchanges 2 rows of $A$, then $P^2 = I$.\n",
    "\n",
    "Assign the variable ONEB the value True if the above statement is true and False if it is not. \n",
    "\n",
    "\n",
    "\n"
   ]
  },
  {
   "cell_type": "code",
   "execution_count": 41,
   "metadata": {
    "deletable": false,
    "nbgrader": {
     "cell_type": "code",
     "checksum": "c561694af9daa3b58d97318ed72ccc47",
     "grade": false,
     "grade_id": "cell-3502b3817938937e",
     "locked": false,
     "schema_version": 3,
     "solution": true,
     "task": false
    }
   },
   "outputs": [],
   "source": [
    "# YOUR CODE HERE\n",
    "ONEB = True"
   ]
  },
  {
   "cell_type": "code",
   "execution_count": null,
   "metadata": {
    "deletable": false,
    "editable": false,
    "nbgrader": {
     "cell_type": "code",
     "checksum": "bf027c6fd712b4e5eb15ad10d03105e5",
     "grade": true,
     "grade_id": "cell-5ebfe057a7d06a07",
     "locked": true,
     "points": 1,
     "schema_version": 3,
     "solution": false,
     "task": false
    }
   },
   "outputs": [],
   "source": []
  },
  {
   "cell_type": "markdown",
   "metadata": {},
   "source": [
    "**Exercise 1(c)**\n",
    "\n",
    "If $x$ is a $n$-dim vector with real entries such that $\\| x \\|_1 = \\| x \\|_\\infty = \\lambda$ then $\\| x \\|_p = \\lambda$ for any $p>1$.\n",
    "\n",
    "Assign the variable ONEC the value True if the above statement is true and False if it is not. \n",
    "\n"
   ]
  },
  {
   "cell_type": "code",
   "execution_count": 42,
   "metadata": {
    "deletable": false,
    "nbgrader": {
     "cell_type": "code",
     "checksum": "ff5419604547f6441d0a6318d0e7f57c",
     "grade": false,
     "grade_id": "cell-9a90fcb681dd4d0d",
     "locked": false,
     "schema_version": 3,
     "solution": true,
     "task": false
    }
   },
   "outputs": [],
   "source": [
    "# YOUR CODE HERE\n",
    "ONEC = True"
   ]
  },
  {
   "cell_type": "code",
   "execution_count": null,
   "metadata": {
    "deletable": false,
    "editable": false,
    "nbgrader": {
     "cell_type": "code",
     "checksum": "93fee10579bc161e1c6217bb88aca720",
     "grade": true,
     "grade_id": "cell-56230c5e26a0dccb",
     "locked": true,
     "points": 1,
     "schema_version": 3,
     "solution": false,
     "task": false
    }
   },
   "outputs": [],
   "source": []
  },
  {
   "cell_type": "markdown",
   "metadata": {},
   "source": [
    "**Exercise 1(d)**\n",
    "\n",
    "If $\\|A \\| = 1$ then $A = I$. \n",
    "\n",
    "Assign the variable ONED the value True if the above statement is true and False if it is not. \n",
    "\n"
   ]
  },
  {
   "cell_type": "code",
   "execution_count": 43,
   "metadata": {
    "deletable": false,
    "nbgrader": {
     "cell_type": "code",
     "checksum": "fbf25c9053e103f50ec5e2e45d0ab244",
     "grade": false,
     "grade_id": "cell-6c126ae68a310118",
     "locked": false,
     "schema_version": 3,
     "solution": true,
     "task": false
    }
   },
   "outputs": [],
   "source": [
    "# YOUR CODE HERE\n",
    "ONED = False"
   ]
  },
  {
   "cell_type": "code",
   "execution_count": null,
   "metadata": {
    "deletable": false,
    "editable": false,
    "nbgrader": {
     "cell_type": "code",
     "checksum": "47b38027fee5abab87596759039d1b77",
     "grade": true,
     "grade_id": "cell-5760ebf648afe6d9",
     "locked": true,
     "points": 0,
     "schema_version": 3,
     "solution": false,
     "task": false
    }
   },
   "outputs": [],
   "source": []
  },
  {
   "cell_type": "markdown",
   "metadata": {},
   "source": [
    "**Exercise 1(e)**\n",
    "\n",
    "Define $\\|x\\|_{\\text{min}} = \\min_k|x_k|$ for any $n$-dim real vector $x$. Then $\\|x\\|_{\\text{min}}$ is a norm. \n",
    "\n",
    "Assign the variable ONEE the value True if the above statement is true and False if it is not. \n",
    "\n"
   ]
  },
  {
   "cell_type": "code",
   "execution_count": 44,
   "metadata": {
    "deletable": false,
    "nbgrader": {
     "cell_type": "code",
     "checksum": "7f214f434184ceb81ec394c1f8b3e778",
     "grade": false,
     "grade_id": "cell-e0682d18039e9989",
     "locked": false,
     "schema_version": 3,
     "solution": true,
     "task": false
    }
   },
   "outputs": [],
   "source": [
    "# YOUR CODE HERE\n",
    "ONEE = False"
   ]
  },
  {
   "cell_type": "code",
   "execution_count": null,
   "metadata": {
    "deletable": false,
    "editable": false,
    "nbgrader": {
     "cell_type": "code",
     "checksum": "982e0d1d183bb3b15b49c53f42d9e861",
     "grade": true,
     "grade_id": "cell-9074aa850fd5e8de",
     "locked": true,
     "points": 1,
     "schema_version": 3,
     "solution": false,
     "task": false
    }
   },
   "outputs": [],
   "source": []
  },
  {
   "cell_type": "markdown",
   "metadata": {},
   "source": [
    "**Exercise 2**\n",
    "\n",
    "Find a value of $c$ such that the system $Ax = b$ has infinitely many solutions where \n",
    "\n",
    "$$ A = \\begin{pmatrix} 3 & -1 & 2 \\\\ 1 & 1 & -1 \\\\ 2 & -2 & 3 \\end{pmatrix} \\qquad b = \\begin{pmatrix} 3 \\\\ 2 \\\\ c \\end{pmatrix}. $$\n",
    "\n",
    "\n",
    "Record your answer by assigning the variable VALC the value of c. \n"
   ]
  },
  {
   "cell_type": "code",
   "execution_count": 45,
   "metadata": {
    "deletable": false,
    "nbgrader": {
     "cell_type": "code",
     "checksum": "c68253d48499d8edd0b980a54b261fb9",
     "grade": false,
     "grade_id": "cell-b80747f42c942756",
     "locked": false,
     "schema_version": 3,
     "solution": true,
     "task": false
    }
   },
   "outputs": [],
   "source": [
    "# YOUR CODE HERE\n",
    "# Row 3 = row 1 - row 2 so I can do 3-2 yields c = 1 to get row 3 is a linear combination of rows 1 and 2\n",
    "VALC = 1"
   ]
  },
  {
   "cell_type": "code",
   "execution_count": null,
   "metadata": {
    "deletable": false,
    "editable": false,
    "nbgrader": {
     "cell_type": "code",
     "checksum": "20ecc8977f2af8fd36ef4b2bc56606f0",
     "grade": true,
     "grade_id": "cell-17d97a45b8c12a46",
     "locked": true,
     "points": 3,
     "schema_version": 3,
     "solution": false,
     "task": false
    }
   },
   "outputs": [],
   "source": []
  },
  {
   "cell_type": "code",
   "execution_count": null,
   "metadata": {
    "deletable": false,
    "editable": false,
    "nbgrader": {
     "cell_type": "code",
     "checksum": "1904790842566041cf946efe3988f266",
     "grade": true,
     "grade_id": "cell-83b15c423ec79637",
     "locked": true,
     "points": 0,
     "schema_version": 3,
     "solution": false,
     "task": false
    }
   },
   "outputs": [],
   "source": []
  },
  {
   "cell_type": "markdown",
   "metadata": {},
   "source": [
    "**Exercise 3(a)**\n",
    "\n",
    "Recall that in numpy, we create matrices by calling np.array. Assign variable $A$ to the matrix\n",
    "$$\\begin{pmatrix} 1 & 3 & 6 \\\\ 10 & 15 & 21 \\\\ 28 & 36 & 45 \\end{pmatrix}$$\n",
    "and assign $B$ to the matrix \n",
    "$$ \\begin{pmatrix} 1 & 4 & 9 \\\\ 16 & 25 & 36 \\\\ 49 & 64 & 81 \\end{pmatrix}$$."
   ]
  },
  {
   "cell_type": "code",
   "execution_count": 46,
   "metadata": {
    "deletable": false,
    "nbgrader": {
     "cell_type": "code",
     "checksum": "7414a4764a9a41c03120e73c22d73d4c",
     "grade": false,
     "grade_id": "cell-ec9af7bcff285380",
     "locked": false,
     "schema_version": 3,
     "solution": true,
     "task": false
    }
   },
   "outputs": [],
   "source": [
    "# YOUR CODE HERE\n",
    "A = np.array([[1,3,6],[10,15,21],[28,36,45]])\n",
    "B = np.array([[1,4,9],[16,25,36],[49,64,81]])"
   ]
  },
  {
   "cell_type": "code",
   "execution_count": 47,
   "metadata": {
    "deletable": false,
    "editable": false,
    "nbgrader": {
     "cell_type": "code",
     "checksum": "4dc62017dfd7f1780604c83d4c19ed45",
     "grade": true,
     "grade_id": "cell-a808b85306e8d6c5",
     "locked": true,
     "points": 1,
     "schema_version": 3,
     "solution": false,
     "task": false
    }
   },
   "outputs": [
    {
     "output_type": "stream",
     "name": "stdout",
     "text": [
      "Checkpoint 1.1 passed\nCheckpoint 1.2 passed\nCheckpoint 1.3 passed\nCheckpoint 1.4 passed\n"
     ]
    }
   ],
   "source": [
    "assert isinstance(A,np.ndarray), \"Make A an array\"\n",
    "print(\"Checkpoint 1.1 passed\")\n",
    "\n",
    "assert isinstance(B,np.ndarray), \"Make B an array\"\n",
    "print(\"Checkpoint 1.2 passed\")\n",
    "\n",
    "assert np.allclose(A,np.array([[1,3,6],[10,15,21],[28,36,45]])), \"Make A has the right values.\"\n",
    "print(\"Checkpoint 1.3 passed\")\n",
    "\n",
    "assert np.allclose(B,np.array([[1,4,9],[16,25,36],[49,64,81]])), \"Make B has the right values.\"\n",
    "print(\"Checkpoint 1.4 passed\")"
   ]
  },
  {
   "cell_type": "markdown",
   "metadata": {},
   "source": [
    "**Exercise 3(b)**\n",
    "Assign the variable DETAB the value of the determinant of matrix $AB$. "
   ]
  },
  {
   "cell_type": "code",
   "execution_count": 48,
   "metadata": {
    "deletable": false,
    "nbgrader": {
     "cell_type": "code",
     "checksum": "836f3e6ab40a7884621c2b5e64907b59",
     "grade": false,
     "grade_id": "cell-e871bc67c2db86db",
     "locked": false,
     "schema_version": 3,
     "solution": true,
     "task": false
    }
   },
   "outputs": [],
   "source": [
    "# YOUR CODE HERE\n",
    "DETAB = np.linalg.det(np.matmul(A, B))"
   ]
  },
  {
   "cell_type": "code",
   "execution_count": 49,
   "metadata": {},
   "outputs": [
    {
     "output_type": "stream",
     "name": "stdout",
     "text": [
      "5832.000000003545\n"
     ]
    }
   ],
   "source": [
    "print(DETAB)"
   ]
  },
  {
   "cell_type": "code",
   "execution_count": 50,
   "metadata": {
    "deletable": false,
    "editable": false,
    "nbgrader": {
     "cell_type": "code",
     "checksum": "de7991fb4ff865dc7508a6e56d197cdb",
     "grade": true,
     "grade_id": "cell-118ec8e5d463cc89",
     "locked": true,
     "points": 1,
     "schema_version": 3,
     "solution": false,
     "task": false
    }
   },
   "outputs": [
    {
     "output_type": "stream",
     "name": "stdout",
     "text": [
      "Checkpoint 1.5 passed\n"
     ]
    }
   ],
   "source": [
    "assert DETAB>3000, \"Check that you did the correct matrix multiplication.\"\n",
    "print(\"Checkpoint 1.5 passed\")"
   ]
  },
  {
   "cell_type": "code",
   "execution_count": 51,
   "metadata": {
    "deletable": false,
    "editable": false,
    "nbgrader": {
     "cell_type": "code",
     "checksum": "8a504f5dd7e09851087e8d46ff750a67",
     "grade": true,
     "grade_id": "cell-ba7a8d2d5b52fcd9",
     "locked": true,
     "points": 2,
     "schema_version": 3,
     "solution": false,
     "task": false
    }
   },
   "outputs": [
    {
     "output_type": "stream",
     "name": "stdout",
     "text": [
      "Checkpoint 1.6 passed\n"
     ]
    }
   ],
   "source": [
    "assert np.isclose(DETAB,5831.999999999371), \"In np, matrix multiplication is done with an @\"\n",
    "print(\"Checkpoint 1.6 passed\")"
   ]
  },
  {
   "cell_type": "markdown",
   "metadata": {},
   "source": [
    "**Exercise 3(c)**\n",
    "\n",
    "Assign the variable $C$ the matrix\n",
    "\n",
    "$$\\begin{pmatrix} 1 & 2 & 3 & 4 \\\\ 5 & 6 & 7 & 8 \\\\ 9 & 10 & 11 & 12 \\\\ 13 & 14 & 15 & 16 \\end{pmatrix}$$.\n",
    "\n"
   ]
  },
  {
   "cell_type": "code",
   "execution_count": 52,
   "metadata": {
    "deletable": false,
    "nbgrader": {
     "cell_type": "code",
     "checksum": "bbdc7dc38d60ca32c2d9b64424d3fd7d",
     "grade": false,
     "grade_id": "cell-9d266bf601050bb8",
     "locked": false,
     "schema_version": 3,
     "solution": true,
     "task": false
    }
   },
   "outputs": [],
   "source": [
    "# YOUR CODE HERE\n",
    "C = np.array([[1,2,3,4],[5,6,7,8],[9,10,11,12],[13,14,15,16]])"
   ]
  },
  {
   "cell_type": "code",
   "execution_count": 53,
   "metadata": {
    "deletable": false,
    "editable": false,
    "nbgrader": {
     "cell_type": "code",
     "checksum": "b7ee2dbab14324121d938d86224d5977",
     "grade": true,
     "grade_id": "cell-5c8287a9f25ea3b3",
     "locked": true,
     "points": 1,
     "schema_version": 3,
     "solution": false,
     "task": false
    }
   },
   "outputs": [
    {
     "output_type": "stream",
     "name": "stdout",
     "text": [
      "Checkpoint 1.7 passed\n"
     ]
    }
   ],
   "source": [
    "assert np.allclose(C,np.array([[1,2,3,4],[5,6,7,8],[9,10,11,12],[13,14,15,16]])), \"Check your entries.\"\n",
    "print(\"Checkpoint 1.7 passed\")"
   ]
  },
  {
   "cell_type": "markdown",
   "metadata": {},
   "source": [
    "**Exercise 3(d)**\n",
    "Assign the variable CRANK the value of the rank of matrix C. "
   ]
  },
  {
   "cell_type": "code",
   "execution_count": 54,
   "metadata": {
    "deletable": false,
    "nbgrader": {
     "cell_type": "code",
     "checksum": "085be4797655edef8c242a4e5e66aba2",
     "grade": false,
     "grade_id": "cell-928e77b05516d6d5",
     "locked": false,
     "schema_version": 3,
     "solution": true,
     "task": false
    }
   },
   "outputs": [],
   "source": [
    "# YOUR CODE HERE\n",
    "CRANK = np.linalg.matrix_rank(C)"
   ]
  },
  {
   "cell_type": "code",
   "execution_count": null,
   "metadata": {
    "deletable": false,
    "editable": false,
    "nbgrader": {
     "cell_type": "code",
     "checksum": "ee33d1a13938e4ca13cdd46572308883",
     "grade": true,
     "grade_id": "cell-4d5b6590813d381f",
     "locked": true,
     "points": 2,
     "schema_version": 3,
     "solution": false,
     "task": false
    }
   },
   "outputs": [],
   "source": []
  },
  {
   "cell_type": "markdown",
   "metadata": {},
   "source": [
    "**Exercise 3(e)**\n",
    "\n",
    "Let $D = AB$. Let $C_1$ be the first column of $D$ and $R_3$ be the third row of $D$.\n",
    "Assign variable $T$ the integer value $R_3C_1$. \n",
    "\n",
    "Hint: If D is an numpy array, use D[i] to return a matrix's $i^{th}$ row, D[: , j] to return a matrix's $j^{th}$ column, and np.dot to compute a dot product. "
   ]
  },
  {
   "cell_type": "code",
   "execution_count": 55,
   "metadata": {
    "deletable": false,
    "nbgrader": {
     "cell_type": "code",
     "checksum": "f1b523c3a4faf4a209bfed2296822359",
     "grade": false,
     "grade_id": "cell-acb71288217f4b7e",
     "locked": false,
     "schema_version": 3,
     "solution": true,
     "task": false
    }
   },
   "outputs": [],
   "source": [
    "# YOUR CODE HERE\n",
    "D = np.matmul(A, B)\n",
    "T = np.dot(D[2], D[:, 0])"
   ]
  },
  {
   "cell_type": "code",
   "execution_count": null,
   "metadata": {
    "deletable": false,
    "editable": false,
    "nbgrader": {
     "cell_type": "code",
     "checksum": "3b6cab9a95f1e1fba9c5ccdeffc54c3c",
     "grade": true,
     "grade_id": "cell-e03587863323d01c",
     "locked": true,
     "points": 0,
     "schema_version": 3,
     "solution": false,
     "task": false
    }
   },
   "outputs": [],
   "source": []
  },
  {
   "cell_type": "markdown",
   "metadata": {},
   "source": [
    "**Exercise 4**\n",
    "\n",
    "Let $A,B$ be the matrices of Exercise 3. Let \n",
    "\n",
    "$$ b = \\begin{pmatrix} 1 \\\\ 1 \\\\ 1 \\end{pmatrix} \\qquad c = \\begin{pmatrix} \\sqrt{2} \\\\ \\sqrt{3} \\\\ \\sqrt{5} \\end{pmatrix} . $$\n",
    "\n",
    "\n",
    "Make the following variable assignments for variables $w,x,y,z$. \n",
    "\n",
    "\n",
    "(i) $w$ the solution to $Aw = b$\n",
    "(ii) $x$ the solution to $Bx = b$\n",
    "(iii) $y$ the solution to $Ay = c$, \n",
    "(iv) $z$ the solution to $Bz = c$. \n",
    "\n",
    "To find the solution to a matrix equation $Ax = b$, use np.linalg.solve(A,b)."
   ]
  },
  {
   "cell_type": "code",
   "execution_count": 56,
   "metadata": {
    "deletable": false,
    "nbgrader": {
     "cell_type": "code",
     "checksum": "c6e93261767632b1b3b68bda064a91c4",
     "grade": false,
     "grade_id": "cell-7cc78ae7e3d62869",
     "locked": false,
     "schema_version": 3,
     "solution": true,
     "task": false
    }
   },
   "outputs": [],
   "source": [
    "# YOUR CODE HERE\n",
    "b = np.array([[1], [1], [1]])\n",
    "c = np.array([[2**0.5], [3**0.5], [5**0.5]])\n",
    "w = np.linalg.solve(A, b)\n",
    "x = np.linalg.solve(B, b)\n",
    "y = np.linalg.solve(A, c)\n",
    "z = np.linalg.solve(B, c)"
   ]
  },
  {
   "cell_type": "code",
   "execution_count": 57,
   "metadata": {
    "deletable": false,
    "editable": false,
    "nbgrader": {
     "cell_type": "code",
     "checksum": "36b9b92e4837bed446cdb7cae709cf47",
     "grade": true,
     "grade_id": "cell-5c1ddfcbfc2c48c8",
     "locked": true,
     "points": 1,
     "schema_version": 3,
     "solution": false,
     "task": false
    }
   },
   "outputs": [
    {
     "output_type": "stream",
     "name": "stdout",
     "text": [
      "Checkpoint 2.1 passed\n"
     ]
    }
   ],
   "source": [
    "assert np.allclose(w,np.linalg.solve(A,b)), \"Use np.linalg.solve(A,b)\"\n",
    "print(\"Checkpoint 2.1 passed\")\n",
    "\n"
   ]
  },
  {
   "cell_type": "code",
   "execution_count": null,
   "metadata": {
    "deletable": false,
    "editable": false,
    "nbgrader": {
     "cell_type": "code",
     "checksum": "a54dad25caec4c4cf852a5df4c31f7f6",
     "grade": true,
     "grade_id": "cell-b6a8b22ab5403a71",
     "locked": true,
     "points": 3,
     "schema_version": 3,
     "solution": false,
     "task": false
    }
   },
   "outputs": [],
   "source": []
  },
  {
   "cell_type": "markdown",
   "metadata": {},
   "source": [
    "**Exercise 5** \n",
    "\n",
    "To find the LU decomposition of a matrix $M$, we use the function call la.lu(M). This will return three matrices (arrays), a permutation array $P$, a lower triangular matrix $L$, and an upper triangular matrix $U$ such that \n",
    "$$ M = PLU. $$\n",
    "To compute the LU decomposition of a matrix $M$, we simply can run the code: P,L,U = la.lu(M). This will assign the variables P,L,U the values described above. \n",
    "\n",
    "Note that in class, we considered matrices that can be reduced to row echelon form without partial pivoting (i.e., without swapping rows). In that case, the matrix $P$ above ends up being the identity matrix. In the more general case where we have to swap rows, we need a non-trivial [permutation matrix](https://en.wikipedia.org/wiki/Permutation_matrix). \n",
    "\n",
    "Find the LU decomposition of the matrix $C$ as in Exercise 3. Precisely, assign variables P,L,U the matrix values such that $PC = LU$. Be careful: the $P$ in $PC = LU$ is is still a permutation matrix, but it is not the same as the P returned by la.lu.\n"
   ]
  },
  {
   "cell_type": "code",
   "execution_count": 61,
   "metadata": {
    "deletable": false,
    "nbgrader": {
     "cell_type": "code",
     "checksum": "275713695e25c7bd9f2101fdae419f0e",
     "grade": false,
     "grade_id": "cell-49d35dcd1a788afe",
     "locked": false,
     "schema_version": 3,
     "solution": true,
     "task": false
    }
   },
   "outputs": [
    {
     "output_type": "stream",
     "name": "stdout",
     "text": [
      "[[ 1  2  3  4]\n [ 5  6  7  8]\n [ 9 10 11 12]\n [13 14 15 16]]\n[[13. 14. 15. 16.]\n [ 1.  2.  3.  4.]\n [ 9. 10. 11. 12.]\n [ 5.  6.  7.  8.]]\n"
     ]
    }
   ],
   "source": [
    "# YOUR CODE HERE\n",
    "P, L, U = la.lu(C)\n",
    "\n",
    "print(np.matmul(L, U))\n",
    "P = np.array([[0, 0, 0, 1], [1, 0, 0, 0], [0, 0, 1, 0], [0, 1, 0, 0]])\n",
    "print(np.matmul(P,C))\n"
   ]
  },
  {
   "cell_type": "code",
   "execution_count": 59,
   "metadata": {
    "deletable": false,
    "editable": false,
    "nbgrader": {
     "cell_type": "code",
     "checksum": "778230502c647d0fa73a9b559756c953",
     "grade": true,
     "grade_id": "cell-bdfc00cb72842dce",
     "locked": true,
     "points": 1,
     "schema_version": 3,
     "solution": false,
     "task": false
    }
   },
   "outputs": [
    {
     "output_type": "stream",
     "name": "stdout",
     "text": [
      "Checkpoint 3.1 passed\n"
     ]
    }
   ],
   "source": [
    "assert isinstance(P,np.ndarray), \"Check your function calls.\"\n",
    "assert isinstance(L,np.ndarray), \"Check your function calls.\"\n",
    "assert isinstance(U,np.ndarray), \"Check your function calls.\"\n",
    "print(\"Checkpoint 3.1 passed\")"
   ]
  },
  {
   "cell_type": "code",
   "execution_count": 60,
   "metadata": {
    "deletable": false,
    "editable": false,
    "nbgrader": {
     "cell_type": "code",
     "checksum": "6dac3e62beb2c402718adafcee1c8081",
     "grade": true,
     "grade_id": "cell-9a79ccd252b43b12",
     "locked": true,
     "points": 1,
     "schema_version": 3,
     "solution": false,
     "task": false
    }
   },
   "outputs": [
    {
     "output_type": "stream",
     "name": "stdout",
     "text": [
      "Checkpoint 3.2 passed\n"
     ]
    }
   ],
   "source": [
    "assert P.shape == (4,4)\n",
    "assert L.shape == (4,4) \n",
    "assert U.shape == (4,4)\n",
    "print(\"Checkpoint 3.2 passed\")"
   ]
  },
  {
   "cell_type": "code",
   "execution_count": null,
   "metadata": {
    "deletable": false,
    "editable": false,
    "nbgrader": {
     "cell_type": "code",
     "checksum": "9458dcf645df8ba0a465009200616e81",
     "grade": true,
     "grade_id": "cell-cd9db327b18d2014",
     "locked": true,
     "points": 2,
     "schema_version": 3,
     "solution": false,
     "task": false
    }
   },
   "outputs": [],
   "source": []
  },
  {
   "cell_type": "code",
   "execution_count": null,
   "metadata": {
    "deletable": false,
    "editable": false,
    "nbgrader": {
     "cell_type": "code",
     "checksum": "f578cb33a72de738f4fcb957c3e0fc80",
     "grade": true,
     "grade_id": "cell-a59aa90fb4e92676",
     "locked": true,
     "points": 3,
     "schema_version": 3,
     "solution": false,
     "task": false
    }
   },
   "outputs": [],
   "source": []
  }
 ],
 "metadata": {
  "kernelspec": {
   "display_name": "cv-venv",
   "language": "python",
   "name": "cv-venv"
  },
  "language_info": {
   "codemirror_mode": {
    "name": "ipython",
    "version": 3
   },
   "file_extension": ".py",
   "mimetype": "text/x-python",
   "name": "python",
   "nbconvert_exporter": "python",
   "pygments_lexer": "ipython3",
   "version": "3.7.4-final"
  }
 },
 "nbformat": 4,
 "nbformat_minor": 4
}